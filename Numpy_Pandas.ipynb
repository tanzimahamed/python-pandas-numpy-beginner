{
 "cells": [
  {
   "cell_type": "code",
   "execution_count": null,
   "id": "2d069703",
   "metadata": {},
   "outputs": [],
   "source": [
    "import pandas as pd \n",
    "import numpy as np "
   ]
  },
  {
   "cell_type": "code",
   "execution_count": 17,
   "id": "714d171a",
   "metadata": {},
   "outputs": [
    {
     "name": "stdout",
     "output_type": "stream",
     "text": [
      "      Name    Age  Salary\n",
      "0   Tanzim  21.00   50000\n",
      "1  Arunima    NaN   40000\n",
      "2   Nusrat  20.00    4300\n",
      "3      NaN   0.35   26000\n",
      "4    Ethan  23.00   30000\n"
     ]
    }
   ],
   "source": [
    "data = pd.DataFrame({\n",
    "    'Name':['Tanzim','Arunima','Nusrat',np.nan,'Ethan'],\n",
    "    'Age':[21,np.nan,20,.35,23],\n",
    "    'Salary': [50000,40000,4300,26000,30000]\n",
    "}) \n",
    "print(data)"
   ]
  },
  {
   "cell_type": "code",
   "execution_count": 21,
   "id": "afaba984",
   "metadata": {},
   "outputs": [
    {
     "name": "stdout",
     "output_type": "stream",
     "text": [
      "      Name   Age   Salary\n",
      "0   Tanzim  21.0  50000.0\n",
      "1  Arunima   NaN  40000.0\n",
      "2   Nusrat  20.0   4300.0\n",
      "3      NaN  35.0      NaN\n",
      "4    Ethan  23.0  30000.0\n"
     ]
    }
   ],
   "source": [
    "\n",
    "\n",
    "data = pd.DataFrame({\n",
    "    'Name': ['Tanzim','Arunima','Nusrat',np.nan,'Ethan'],\n",
    "    'Age': [21, np.nan, 20, 35, 23],\n",
    "    'Salary': [50000, 40000, 4300, np.nan, 30000]\n",
    "})\n",
    "\n",
    "print(data)\n"
   ]
  },
  {
   "cell_type": "code",
   "execution_count": 19,
   "id": "9799176a",
   "metadata": {},
   "outputs": [],
   "source": [
    "data_dropna= data.dropna() # delete null value "
   ]
  },
  {
   "cell_type": "code",
   "execution_count": 20,
   "id": "7d3abc2f",
   "metadata": {},
   "outputs": [
    {
     "data": {
      "text/html": [
       "<div>\n",
       "<style scoped>\n",
       "    .dataframe tbody tr th:only-of-type {\n",
       "        vertical-align: middle;\n",
       "    }\n",
       "\n",
       "    .dataframe tbody tr th {\n",
       "        vertical-align: top;\n",
       "    }\n",
       "\n",
       "    .dataframe thead th {\n",
       "        text-align: right;\n",
       "    }\n",
       "</style>\n",
       "<table border=\"1\" class=\"dataframe\">\n",
       "  <thead>\n",
       "    <tr style=\"text-align: right;\">\n",
       "      <th></th>\n",
       "      <th>Name</th>\n",
       "      <th>Age</th>\n",
       "      <th>Salary</th>\n",
       "    </tr>\n",
       "  </thead>\n",
       "  <tbody>\n",
       "    <tr>\n",
       "      <th>0</th>\n",
       "      <td>Tanzim</td>\n",
       "      <td>21.0</td>\n",
       "      <td>50000</td>\n",
       "    </tr>\n",
       "    <tr>\n",
       "      <th>2</th>\n",
       "      <td>Nusrat</td>\n",
       "      <td>20.0</td>\n",
       "      <td>4300</td>\n",
       "    </tr>\n",
       "    <tr>\n",
       "      <th>4</th>\n",
       "      <td>Ethan</td>\n",
       "      <td>23.0</td>\n",
       "      <td>30000</td>\n",
       "    </tr>\n",
       "  </tbody>\n",
       "</table>\n",
       "</div>"
      ],
      "text/plain": [
       "     Name   Age  Salary\n",
       "0  Tanzim  21.0   50000\n",
       "2  Nusrat  20.0    4300\n",
       "4   Ethan  23.0   30000"
      ]
     },
     "execution_count": 20,
     "metadata": {},
     "output_type": "execute_result"
    }
   ],
   "source": [
    "data_dropna"
   ]
  },
  {
   "cell_type": "code",
   "execution_count": null,
   "id": "d77d0b1b",
   "metadata": {},
   "outputs": [],
   "source": [
    "# Fill missing values (NaN) in the DataFrame using specific rules\n",
    "data_filled = data.fillna({\n",
    "\n",
    "                         # 1. For the 'Name' column:\n",
    "                         # If any cell is NaN → replace it with the string 'Unknown'\n",
    "    'Name': 'Unknown',\n",
    "\n",
    "                         # 2. For the 'Age' column:\n",
    "                         # If any cell is NaN → replace it with the mean (average) of the 'Age' column\n",
    "    'Age': data['Age'].mean(),\n",
    "\n",
    "                         # 3. For the 'Salary' column:\n",
    "                         # If any cell is NaN → replace it with 0\n",
    "    'Salary': 0\n",
    "})\n"
   ]
  },
  {
   "cell_type": "code",
   "execution_count": 26,
   "id": "634905a6",
   "metadata": {},
   "outputs": [
    {
     "data": {
      "text/html": [
       "<div>\n",
       "<style scoped>\n",
       "    .dataframe tbody tr th:only-of-type {\n",
       "        vertical-align: middle;\n",
       "    }\n",
       "\n",
       "    .dataframe tbody tr th {\n",
       "        vertical-align: top;\n",
       "    }\n",
       "\n",
       "    .dataframe thead th {\n",
       "        text-align: right;\n",
       "    }\n",
       "</style>\n",
       "<table border=\"1\" class=\"dataframe\">\n",
       "  <thead>\n",
       "    <tr style=\"text-align: right;\">\n",
       "      <th></th>\n",
       "      <th>Name</th>\n",
       "      <th>Age</th>\n",
       "      <th>Salary</th>\n",
       "    </tr>\n",
       "  </thead>\n",
       "  <tbody>\n",
       "    <tr>\n",
       "      <th>0</th>\n",
       "      <td>Tanzim</td>\n",
       "      <td>21.00</td>\n",
       "      <td>50000.0</td>\n",
       "    </tr>\n",
       "    <tr>\n",
       "      <th>1</th>\n",
       "      <td>Arunima</td>\n",
       "      <td>24.75</td>\n",
       "      <td>40000.0</td>\n",
       "    </tr>\n",
       "    <tr>\n",
       "      <th>2</th>\n",
       "      <td>Nusrat</td>\n",
       "      <td>20.00</td>\n",
       "      <td>4300.0</td>\n",
       "    </tr>\n",
       "    <tr>\n",
       "      <th>3</th>\n",
       "      <td>Unknown</td>\n",
       "      <td>35.00</td>\n",
       "      <td>0.0</td>\n",
       "    </tr>\n",
       "    <tr>\n",
       "      <th>4</th>\n",
       "      <td>Ethan</td>\n",
       "      <td>23.00</td>\n",
       "      <td>30000.0</td>\n",
       "    </tr>\n",
       "  </tbody>\n",
       "</table>\n",
       "</div>"
      ],
      "text/plain": [
       "      Name    Age   Salary\n",
       "0   Tanzim  21.00  50000.0\n",
       "1  Arunima  24.75  40000.0\n",
       "2   Nusrat  20.00   4300.0\n",
       "3  Unknown  35.00      0.0\n",
       "4    Ethan  23.00  30000.0"
      ]
     },
     "execution_count": 26,
     "metadata": {},
     "output_type": "execute_result"
    }
   ],
   "source": [
    "data_filled"
   ]
  },
  {
   "cell_type": "code",
   "execution_count": null,
   "id": "aace4b19",
   "metadata": {},
   "outputs": [],
   "source": []
  },
  {
   "cell_type": "code",
   "execution_count": null,
   "id": "2a987f65",
   "metadata": {},
   "outputs": [
    {
     "data": {
      "text/html": [
       "<div>\n",
       "<style scoped>\n",
       "    .dataframe tbody tr th:only-of-type {\n",
       "        vertical-align: middle;\n",
       "    }\n",
       "\n",
       "    .dataframe tbody tr th {\n",
       "        vertical-align: top;\n",
       "    }\n",
       "\n",
       "    .dataframe thead th {\n",
       "        text-align: right;\n",
       "    }\n",
       "</style>\n",
       "<table border=\"1\" class=\"dataframe\">\n",
       "  <thead>\n",
       "    <tr style=\"text-align: right;\">\n",
       "      <th></th>\n",
       "      <th>Name</th>\n",
       "      <th>Age</th>\n",
       "      <th>Salary</th>\n",
       "    </tr>\n",
       "  </thead>\n",
       "  <tbody>\n",
       "    <tr>\n",
       "      <th>0</th>\n",
       "      <td>Tanzim</td>\n",
       "      <td>21.0</td>\n",
       "      <td>50000</td>\n",
       "    </tr>\n",
       "    <tr>\n",
       "      <th>2</th>\n",
       "      <td>Nusrat</td>\n",
       "      <td>20.0</td>\n",
       "      <td>4300</td>\n",
       "    </tr>\n",
       "    <tr>\n",
       "      <th>4</th>\n",
       "      <td>Ethan</td>\n",
       "      <td>23.0</td>\n",
       "      <td>30000</td>\n",
       "    </tr>\n",
       "  </tbody>\n",
       "</table>\n",
       "</div>"
      ],
      "text/plain": [
       "     Name   Age  Salary\n",
       "0  Tanzim  21.0   50000\n",
       "2  Nusrat  20.0    4300\n",
       "4   Ethan  23.0   30000"
      ]
     },
     "execution_count": 15,
     "metadata": {},
     "output_type": "execute_result"
    }
   ],
   "source": [
    "# data= data.dropna()   #totaly replese main data \n",
    "# data "
   ]
  },
  {
   "cell_type": "code",
   "execution_count": null,
   "id": "169e7d11",
   "metadata": {},
   "outputs": [],
   "source": []
  },
  {
   "cell_type": "code",
   "execution_count": null,
   "id": "b2068e5d",
   "metadata": {},
   "outputs": [],
   "source": []
  },
  {
   "cell_type": "code",
   "execution_count": null,
   "id": "7eab4370",
   "metadata": {},
   "outputs": [],
   "source": []
  },
  {
   "cell_type": "code",
   "execution_count": null,
   "id": "3fb94d18",
   "metadata": {},
   "outputs": [],
   "source": []
  },
  {
   "cell_type": "code",
   "execution_count": null,
   "id": "accacbcb",
   "metadata": {},
   "outputs": [],
   "source": []
  },
  {
   "cell_type": "code",
   "execution_count": null,
   "id": "cbf7149c",
   "metadata": {},
   "outputs": [],
   "source": []
  },
  {
   "cell_type": "code",
   "execution_count": null,
   "id": "7f3946c2",
   "metadata": {},
   "outputs": [],
   "source": []
  }
 ],
 "metadata": {
  "kernelspec": {
   "display_name": "base",
   "language": "python",
   "name": "python3"
  },
  "language_info": {
   "codemirror_mode": {
    "name": "ipython",
    "version": 3
   },
   "file_extension": ".py",
   "mimetype": "text/x-python",
   "name": "python",
   "nbconvert_exporter": "python",
   "pygments_lexer": "ipython3",
   "version": "3.13.5"
  }
 },
 "nbformat": 4,
 "nbformat_minor": 5
}
