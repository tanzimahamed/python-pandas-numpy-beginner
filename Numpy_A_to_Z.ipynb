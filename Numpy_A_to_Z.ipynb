{
 "cells": [
  {
   "cell_type": "code",
   "execution_count": 1,
   "id": "6432d326",
   "metadata": {},
   "outputs": [
    {
     "name": "stdout",
     "output_type": "stream",
     "text": [
      "[1 2 3 4 5]\n",
      "[[1 2 3]\n",
      " [4 5 6]]\n"
     ]
    }
   ],
   "source": [
    "import numpy as np\n",
    "\n",
    "# Python list থেকে NumPy array\n",
    "arr = np.array([1, 2, 3, 4, 5])\n",
    "print(arr)\n",
    "\n",
    "# 2D array\n",
    "arr2 = np.array([[1, 2, 3], [4, 5, 6]])\n",
    "print(arr2)\n"
   ]
  },
  {
   "cell_type": "code",
   "execution_count": 2,
   "id": "f3734530",
   "metadata": {},
   "outputs": [
    {
     "name": "stdout",
     "output_type": "stream",
     "text": [
      "1\n",
      "(5,)\n",
      "5\n",
      "int64\n"
     ]
    }
   ],
   "source": [
    "print(arr.ndim)   # Dimension সংখ্যা\n",
    "print(arr.shape)  # Row × Column\n",
    "print(arr.size)   # মোট element সংখ্যা\n",
    "print(arr.dtype)  # Data type\n"
   ]
  },
  {
   "cell_type": "code",
   "execution_count": 3,
   "id": "ae579e80",
   "metadata": {},
   "outputs": [
    {
     "data": {
      "text/plain": [
       "array([0.  , 0.25, 0.5 , 0.75, 1.  ])"
      ]
     },
     "execution_count": 3,
     "metadata": {},
     "output_type": "execute_result"
    }
   ],
   "source": [
    "np.zeros((3,3))     # 3x3 zero matrix\n",
    "np.ones((2,4))      # 2x4 matrix full of ones\n",
    "np.full((2,2), 7)   # সব value 7\n",
    "np.eye(3)           # 3x3 Identity matrix\n",
    "np.arange(0, 10, 2) # 0 থেকে 10, step 2\n",
    "np.linspace(0, 1, 5)# 0 থেকে 1, 5 ভাগে\n"
   ]
  },
  {
   "cell_type": "code",
   "execution_count": 4,
   "id": "45243550",
   "metadata": {},
   "outputs": [
    {
     "name": "stdout",
     "output_type": "stream",
     "text": [
      "10\n",
      "50\n",
      "[20 30 40]\n",
      "2\n"
     ]
    }
   ],
   "source": [
    "arr = np.array([10,20,30,40,50])\n",
    "print(arr[0])    # প্রথম element\n",
    "print(arr[-1])   # শেষ element\n",
    "print(arr[1:4])  # Slice\n",
    "\n",
    "arr2d = np.array([[1,2,3],[4,5,6]])\n",
    "print(arr2d[0,1])   # Row=0, Col=1 → 2\n"
   ]
  },
  {
   "cell_type": "code",
   "execution_count": 5,
   "id": "307ed84c",
   "metadata": {},
   "outputs": [
    {
     "name": "stdout",
     "output_type": "stream",
     "text": [
      "[5 7 9]\n",
      "[ 4 10 18]\n",
      "[1 4 9]\n",
      "[1.         1.41421356 1.73205081]\n",
      "[ 2.71828183  7.3890561  20.08553692]\n"
     ]
    }
   ],
   "source": [
    "a = np.array([1,2,3])\n",
    "b = np.array([4,5,6])\n",
    "\n",
    "print(a + b)   # [5 7 9]\n",
    "print(a * b)   # [4 10 18]\n",
    "print(a ** 2)  # [1 4 9]\n",
    "\n",
    "print(np.sqrt(a))   # square root\n",
    "print(np.exp(a))    # exponential\n"
   ]
  },
  {
   "cell_type": "code",
   "execution_count": 6,
   "id": "1de24702",
   "metadata": {},
   "outputs": [
    {
     "name": "stdout",
     "output_type": "stream",
     "text": [
      "15\n",
      "3.0\n",
      "1\n",
      "5\n",
      "1.4142135623730951\n"
     ]
    }
   ],
   "source": [
    "arr = np.array([1,2,3,4,5])\n",
    "\n",
    "print(arr.sum())   # 15\n",
    "print(arr.mean())  # 3.0\n",
    "print(arr.min())   # 1\n",
    "print(arr.max())   # 5\n",
    "print(arr.std())   # Standard Deviation\n"
   ]
  },
  {
   "cell_type": "code",
   "execution_count": 7,
   "id": "5a07b495",
   "metadata": {},
   "outputs": [
    {
     "name": "stdout",
     "output_type": "stream",
     "text": [
      "[[ 0  1  2  3]\n",
      " [ 4  5  6  7]\n",
      " [ 8  9 10 11]]\n",
      "[[[ 0  1  2]\n",
      "  [ 3  4  5]]\n",
      "\n",
      " [[ 6  7  8]\n",
      "  [ 9 10 11]]]\n"
     ]
    }
   ],
   "source": [
    "arr = np.arange(12)       # 0–11 পর্যন্ত\n",
    "print(arr.reshape(3,4))   # 3x4 matrix\n",
    "print(arr.reshape(2,2,3)) # 3D array\n"
   ]
  },
  {
   "cell_type": "code",
   "execution_count": 8,
   "id": "507ac0a7",
   "metadata": {},
   "outputs": [
    {
     "name": "stdout",
     "output_type": "stream",
     "text": [
      "[1 2 3 4 5 6]\n",
      "[[1 2 3]\n",
      " [4 5 6]]\n",
      "[array([[0],\n",
      "       [3],\n",
      "       [6]]), array([[1],\n",
      "       [4],\n",
      "       [7]]), array([[2],\n",
      "       [5],\n",
      "       [8]])]\n"
     ]
    }
   ],
   "source": [
    "a = np.array([1,2,3])\n",
    "b = np.array([4,5,6])\n",
    "\n",
    "print(np.hstack((a,b))) # Horizontal join\n",
    "print(np.vstack((a,b))) # Vertical join\n",
    "\n",
    "arr = np.arange(9).reshape(3,3)\n",
    "print(np.hsplit(arr, 3)) # Split into 3 parts\n"
   ]
  },
  {
   "cell_type": "code",
   "execution_count": 9,
   "id": "d346d6dd",
   "metadata": {},
   "outputs": [
    {
     "name": "stdout",
     "output_type": "stream",
     "text": [
      "[30 40 50]\n",
      "[20 40]\n"
     ]
    }
   ],
   "source": [
    "arr = np.array([10, 20, 30, 40, 50])\n",
    "print(arr[arr > 25])   # [30 40 50]\n",
    "print(arr[arr % 20 == 0]) # [20 40]\n"
   ]
  },
  {
   "cell_type": "code",
   "execution_count": 10,
   "id": "10003ea1",
   "metadata": {},
   "outputs": [
    {
     "data": {
      "text/plain": [
       "array([[ 0.31017387, -2.2834993 ,  1.42334645],\n",
       "       [ 1.72191714, -0.02828964, -0.27697912],\n",
       "       [ 1.02124675, -0.56717652, -0.28915358]])"
      ]
     },
     "execution_count": 10,
     "metadata": {},
     "output_type": "execute_result"
    }
   ],
   "source": [
    "np.random.rand(3,3)       # 0–1 এর মধ্যে random\n",
    "np.random.randint(1,10,5) # 1–10 এর মধ্যে 5টি সংখ্যা\n",
    "np.random.randn(3,3)      # Normal distribution\n"
   ]
  },
  {
   "cell_type": "code",
   "execution_count": 11,
   "id": "fb7a024d",
   "metadata": {},
   "outputs": [
    {
     "name": "stdout",
     "output_type": "stream",
     "text": [
      "[[19 22]\n",
      " [43 50]]\n",
      "[[-2.   1. ]\n",
      " [ 1.5 -0.5]]\n",
      "-2.0000000000000004\n",
      "EigResult(eigenvalues=array([-0.37228132,  5.37228132]), eigenvectors=array([[-0.82456484, -0.41597356],\n",
      "       [ 0.56576746, -0.90937671]]))\n"
     ]
    }
   ],
   "source": [
    "a = np.array([[1,2],[3,4]])\n",
    "b = np.array([[5,6],[7,8]])\n",
    "\n",
    "print(np.dot(a,b))   # Matrix multiplication\n",
    "print(np.linalg.inv(a))  # Inverse\n",
    "print(np.linalg.det(a))  # Determinant\n",
    "print(np.linalg.eig(a))  # Eigenvalues & eigenvectors\n"
   ]
  },
  {
   "cell_type": "code",
   "execution_count": 12,
   "id": "d937d886",
   "metadata": {},
   "outputs": [
    {
     "ename": "TypeError",
     "evalue": "'>' not supported between instances of 'list' and 'int'",
     "output_type": "error",
     "traceback": [
      "\u001b[1;31m---------------------------------------------------------------------------\u001b[0m",
      "\u001b[1;31mTypeError\u001b[0m                                 Traceback (most recent call last)",
      "Cell \u001b[1;32mIn[12], line 3\u001b[0m\n\u001b[0;32m      1\u001b[0m np\u001b[38;5;241m.\u001b[39munique([\u001b[38;5;241m1\u001b[39m,\u001b[38;5;241m2\u001b[39m,\u001b[38;5;241m2\u001b[39m,\u001b[38;5;241m3\u001b[39m])     \u001b[38;5;66;03m# Unique values\u001b[39;00m\n\u001b[0;32m      2\u001b[0m np\u001b[38;5;241m.\u001b[39msort([\u001b[38;5;241m3\u001b[39m,\u001b[38;5;241m1\u001b[39m,\u001b[38;5;241m2\u001b[39m])         \u001b[38;5;66;03m# Sorting\u001b[39;00m\n\u001b[1;32m----> 3\u001b[0m np\u001b[38;5;241m.\u001b[39mwhere([\u001b[38;5;241m1\u001b[39m,\u001b[38;5;241m2\u001b[39m,\u001b[38;5;241m3\u001b[39m,\u001b[38;5;241m4\u001b[39m]\u001b[38;5;241m>\u001b[39m\u001b[38;5;241m2\u001b[39m)    \u001b[38;5;66;03m# Condition match index\u001b[39;00m\n\u001b[0;32m      4\u001b[0m np\u001b[38;5;241m.\u001b[39mclip([\u001b[38;5;241m1\u001b[39m,\u001b[38;5;241m5\u001b[39m,\u001b[38;5;241m10\u001b[39m], \u001b[38;5;241m2\u001b[39m, \u001b[38;5;241m6\u001b[39m)\n",
      "\u001b[1;31mTypeError\u001b[0m: '>' not supported between instances of 'list' and 'int'"
     ]
    }
   ],
   "source": [
    "np.unique([1,2,2,3])     # Unique values\n",
    "np.sort([3,1,2])         # Sorting\n",
    "np.where([1,2,3,4]>2)    # Condition match index\n",
    "np.clip([1,5,10], 2, 6)  # Limit values (2–6)\n"
   ]
  },
  {
   "cell_type": "code",
   "execution_count": 13,
   "id": "f91f10b3",
   "metadata": {},
   "outputs": [
    {
     "name": "stdout",
     "output_type": "stream",
     "text": [
      "[6 7 8]\n",
      "[[2. 3. 4.]\n",
      " [2. 3. 4.]\n",
      " [2. 3. 4.]]\n"
     ]
    }
   ],
   "source": [
    "a = np.array([1,2,3])\n",
    "b = 5\n",
    "print(a + b)   # [6 7 8]\n",
    "\n",
    "matrix = np.ones((3,3))\n",
    "vector = np.array([1,2,3])\n",
    "print(matrix + vector)\n"
   ]
  },
  {
   "cell_type": "code",
   "execution_count": null,
   "id": "d530c1dd",
   "metadata": {},
   "outputs": [],
   "source": []
  },
  {
   "cell_type": "code",
   "execution_count": null,
   "id": "a49499f5",
   "metadata": {},
   "outputs": [],
   "source": []
  },
  {
   "cell_type": "code",
   "execution_count": null,
   "id": "f8732472",
   "metadata": {},
   "outputs": [],
   "source": []
  },
  {
   "cell_type": "code",
   "execution_count": null,
   "id": "2f06ef1c",
   "metadata": {},
   "outputs": [],
   "source": []
  },
  {
   "cell_type": "code",
   "execution_count": null,
   "id": "9c2ed3aa",
   "metadata": {},
   "outputs": [],
   "source": []
  },
  {
   "cell_type": "code",
   "execution_count": null,
   "id": "c871659c",
   "metadata": {},
   "outputs": [],
   "source": []
  },
  {
   "cell_type": "code",
   "execution_count": null,
   "id": "f26e093b",
   "metadata": {},
   "outputs": [],
   "source": []
  },
  {
   "cell_type": "code",
   "execution_count": null,
   "id": "06bc2e5e",
   "metadata": {},
   "outputs": [],
   "source": []
  }
 ],
 "metadata": {
  "kernelspec": {
   "display_name": "base",
   "language": "python",
   "name": "python3"
  },
  "language_info": {
   "codemirror_mode": {
    "name": "ipython",
    "version": 3
   },
   "file_extension": ".py",
   "mimetype": "text/x-python",
   "name": "python",
   "nbconvert_exporter": "python",
   "pygments_lexer": "ipython3",
   "version": "3.13.5"
  }
 },
 "nbformat": 4,
 "nbformat_minor": 5
}
